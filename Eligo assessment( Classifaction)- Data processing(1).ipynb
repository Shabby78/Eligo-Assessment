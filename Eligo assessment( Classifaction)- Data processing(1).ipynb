{
 "cells": [
  {
   "cell_type": "markdown",
   "id": "2590d258",
   "metadata": {},
   "source": [
    "# Data Science Assessment: News Article Analysis & Classification"
   ]
  },
  {
   "cell_type": "markdown",
   "id": "d4cd6258",
   "metadata": {},
   "source": [
    "### Data Preprocessing & Storage"
   ]
  },
  {
   "cell_type": "code",
   "execution_count": 54,
   "id": "3d184859",
   "metadata": {},
   "outputs": [
    {
     "name": "stdout",
     "output_type": "stream",
     "text": [
      "Requirement already satisfied: datasets in f:\\anaconda\\lib\\site-packages (3.4.0)\n",
      "Requirement already satisfied: pandas in f:\\anaconda\\lib\\site-packages (from datasets) (1.4.4)\n",
      "Requirement already satisfied: filelock in f:\\anaconda\\lib\\site-packages (from datasets) (3.6.0)\n",
      "Requirement already satisfied: pyarrow>=15.0.0 in f:\\anaconda\\lib\\site-packages (from datasets) (19.0.1)\n",
      "Requirement already satisfied: xxhash in f:\\anaconda\\lib\\site-packages (from datasets) (3.5.0)\n",
      "Requirement already satisfied: aiohttp in f:\\anaconda\\lib\\site-packages (from datasets) (3.11.14)\n",
      "Requirement already satisfied: dill<0.3.9,>=0.3.0 in f:\\anaconda\\lib\\site-packages (from datasets) (0.3.8)\n",
      "Requirement already satisfied: packaging in f:\\anaconda\\lib\\site-packages (from datasets) (21.3)\n",
      "Requirement already satisfied: numpy>=1.17 in f:\\anaconda\\lib\\site-packages (from datasets) (1.21.5)\n",
      "Requirement already satisfied: fsspec[http]<=2024.12.0,>=2023.1.0 in f:\\anaconda\\lib\\site-packages (from datasets) (2024.12.0)\n",
      "Requirement already satisfied: tqdm>=4.66.3 in f:\\anaconda\\lib\\site-packages (from datasets) (4.67.1)\n",
      "Requirement already satisfied: pyyaml>=5.1 in f:\\anaconda\\lib\\site-packages (from datasets) (6.0)\n",
      "Requirement already satisfied: requests>=2.32.2 in f:\\anaconda\\lib\\site-packages (from datasets) (2.32.3)\n",
      "Requirement already satisfied: multiprocess<0.70.17 in f:\\anaconda\\lib\\site-packages (from datasets) (0.70.16)\n",
      "Requirement already satisfied: huggingface-hub>=0.24.0 in f:\\anaconda\\lib\\site-packages (from datasets) (0.29.3)\n",
      "Requirement already satisfied: attrs>=17.3.0 in f:\\anaconda\\lib\\site-packages (from aiohttp->datasets) (21.4.0)\n",
      "Requirement already satisfied: propcache>=0.2.0 in f:\\anaconda\\lib\\site-packages (from aiohttp->datasets) (0.3.0)\n",
      "Requirement already satisfied: multidict<7.0,>=4.5 in f:\\anaconda\\lib\\site-packages (from aiohttp->datasets) (6.1.0)\n",
      "Requirement already satisfied: frozenlist>=1.1.1 in f:\\anaconda\\lib\\site-packages (from aiohttp->datasets) (1.5.0)\n",
      "Requirement already satisfied: aiohappyeyeballs>=2.3.0 in f:\\anaconda\\lib\\site-packages (from aiohttp->datasets) (2.6.1)\n",
      "Requirement already satisfied: aiosignal>=1.1.2 in f:\\anaconda\\lib\\site-packages (from aiohttp->datasets) (1.3.2)\n",
      "Requirement already satisfied: async-timeout<6.0,>=4.0 in f:\\anaconda\\lib\\site-packages (from aiohttp->datasets) (5.0.1)\n",
      "Requirement already satisfied: yarl<2.0,>=1.17.0 in f:\\anaconda\\lib\\site-packages (from aiohttp->datasets) (1.18.3)\n",
      "Requirement already satisfied: typing-extensions>=3.7.4.3 in f:\\anaconda\\lib\\site-packages (from huggingface-hub>=0.24.0->datasets) (4.3.0)\n",
      "Requirement already satisfied: pyparsing!=3.0.5,>=2.0.2 in f:\\anaconda\\lib\\site-packages (from packaging->datasets) (3.0.9)\n",
      "Requirement already satisfied: idna<4,>=2.5 in f:\\anaconda\\lib\\site-packages (from requests>=2.32.2->datasets) (3.3)\n",
      "Requirement already satisfied: certifi>=2017.4.17 in f:\\anaconda\\lib\\site-packages (from requests>=2.32.2->datasets) (2022.9.14)\n",
      "Requirement already satisfied: urllib3<3,>=1.21.1 in f:\\anaconda\\lib\\site-packages (from requests>=2.32.2->datasets) (1.26.11)\n",
      "Requirement already satisfied: charset-normalizer<4,>=2 in f:\\anaconda\\lib\\site-packages (from requests>=2.32.2->datasets) (2.0.4)\n",
      "Requirement already satisfied: colorama in f:\\anaconda\\lib\\site-packages (from tqdm>=4.66.3->datasets) (0.4.5)\n",
      "Requirement already satisfied: pytz>=2020.1 in f:\\anaconda\\lib\\site-packages (from pandas->datasets) (2022.1)\n",
      "Requirement already satisfied: python-dateutil>=2.8.1 in f:\\anaconda\\lib\\site-packages (from pandas->datasets) (2.8.2)\n",
      "Requirement already satisfied: six>=1.5 in f:\\anaconda\\lib\\site-packages (from python-dateutil>=2.8.1->pandas->datasets) (1.16.0)\n"
     ]
    }
   ],
   "source": [
    "!pip install datasets"
   ]
  },
  {
   "cell_type": "code",
   "execution_count": 43,
   "id": "4b1ee294",
   "metadata": {},
   "outputs": [],
   "source": [
    "from datasets import load_dataset\n",
    "import pandas as pd\n",
    "import numpy as np\n",
    "import matplotlib.pyplot as plt\n",
    "import seaborn as sns"
   ]
  },
  {
   "cell_type": "code",
   "execution_count": 65,
   "id": "fe2ab0d0",
   "metadata": {},
   "outputs": [
    {
     "name": "stdout",
     "output_type": "stream",
     "text": [
      "Columns in dataset: Index(['text', 'label'], dtype='object')\n",
      "                                               Title  label  \\\n",
      "0  Wall St. Bears Claw Back Into the Black (Reute...      2   \n",
      "1  Carlyle Looks Toward Commercial Aerospace (Reu...      2   \n",
      "2  Oil and Economy Cloud Stocks' Outlook (Reuters...      2   \n",
      "3  Iraq Halts Oil Exports from Main Southern Pipe...      2   \n",
      "4  Oil prices soar to all-time record, posing new...      2   \n",
      "\n",
      "                                                text  \n",
      "0  Wall St. Bears Claw Back Into the Black (Reute...  \n",
      "1  Carlyle Looks Toward Commercial Aerospace (Reu...  \n",
      "2  Oil and Economy Cloud Stocks' Outlook (Reuters...  \n",
      "3  Iraq Halts Oil Exports from Main Southern Pipe...  \n",
      "4  Oil prices soar to all-time record, posing new...  \n"
     ]
    }
   ],
   "source": [
    "from datasets import load_dataset\n",
    "import pandas as pd\n",
    "\n",
    "# Load dataset\n",
    "dataset = load_dataset(\"fancyzhx/ag_news\")\n",
    "\n",
    "# Convert to Pandas DataFrame\n",
    "df_train = pd.DataFrame(dataset[\"train\"])\n",
    "df_test = pd.DataFrame(dataset[\"test\"])\n",
    "\n",
    "\n",
    "# Verify column names\n",
    "print(\"Columns in dataset:\", df_train.columns)\n",
    "\n",
    "df_train.columns=[\"Title\",\"label\"]\n",
    "df_test.columns=[\"Title\",\"label\"]\n",
    "\n",
    "# If \"text\" column is missing, create it by merging \"Title\"\n",
    "if \"text\" not in df_train.columns:\n",
    "    df_train[\"text\"] = df_train[\"Title\"]\n",
    "    df_test[\"text\"] = df_test[\"Title\"]\n",
    "\n",
    "# Display dataset sample\n",
    "print(df_train.head())\n"
   ]
  },
  {
   "cell_type": "markdown",
   "id": "46dd8adb",
   "metadata": {},
   "source": [
    "### Understand structure\n"
   ]
  },
  {
   "cell_type": "code",
   "execution_count": 66,
   "id": "9525217b",
   "metadata": {},
   "outputs": [
    {
     "name": "stdout",
     "output_type": "stream",
     "text": [
      "<class 'pandas.core.frame.DataFrame'>\n",
      "RangeIndex: 120000 entries, 0 to 119999\n",
      "Data columns (total 3 columns):\n",
      " #   Column  Non-Null Count   Dtype \n",
      "---  ------  --------------   ----- \n",
      " 0   Title   120000 non-null  object\n",
      " 1   label   120000 non-null  int64 \n",
      " 2   text    120000 non-null  object\n",
      "dtypes: int64(1), object(2)\n",
      "memory usage: 2.7+ MB\n",
      "-----------------------------------------------------------------\n",
      "Unique Labels: [2 3 1 0]\n",
      "-----------------------------------------------------------------\n"
     ]
    },
    {
     "data": {
      "text/plain": [
       "Business        30000\n",
       "Science/tech    30000\n",
       "Sports          30000\n",
       "World           30000\n",
       "Name: label, dtype: int64"
      ]
     },
     "execution_count": 66,
     "metadata": {},
     "output_type": "execute_result"
    }
   ],
   "source": [
    "# Check dataset information\n",
    "df_train.info()\n",
    "\n",
    "#Check unique labels\n",
    "print(\"-----------------------------------------------------------------\")\n",
    "print(\"Unique Labels:\", df_train[\"label\"].unique())\n",
    "\n",
    "print(\"-----------------------------------------------------------------\")\n",
    "# check distribution\n",
    "df_train[\"label\"].map(category_map).value_counts()"
   ]
  },
  {
   "cell_type": "markdown",
   "id": "ff37e1cd",
   "metadata": {},
   "source": [
    "### Cleaning the pipeline\n",
    "\n",
    "#### This cleaning pipeline method is used for cleaning the unnecessary spaces and special characters in the title or description of the data\n"
   ]
  },
  {
   "cell_type": "code",
   "execution_count": 68,
   "id": "43700102",
   "metadata": {},
   "outputs": [
    {
     "name": "stderr",
     "output_type": "stream",
     "text": [
      "[nltk_data] Downloading package stopwords to\n",
      "[nltk_data]     C:\\Users\\Admin\\AppData\\Roaming\\nltk_data...\n",
      "[nltk_data]   Package stopwords is already up-to-date!\n"
     ]
    },
    {
     "name": "stdout",
     "output_type": "stream",
     "text": [
      "                                                text  \\\n",
      "0  Wall St. Bears Claw Back Into the Black (Reute...   \n",
      "1  Carlyle Looks Toward Commercial Aerospace (Reu...   \n",
      "2  Oil and Economy Cloud Stocks' Outlook (Reuters...   \n",
      "3  Iraq Halts Oil Exports from Main Southern Pipe...   \n",
      "4  Oil prices soar to all-time record, posing new...   \n",
      "\n",
      "                                          clean_text  \n",
      "0  wall st bears claw back black reuters reuters ...  \n",
      "1  carlyle looks toward commercial aerospace reut...  \n",
      "2  oil economy cloud stocks outlook reuters reute...  \n",
      "3  iraq halts oil exports main southern pipeline ...  \n",
      "4  oil prices soar time record posing new menace ...  \n"
     ]
    }
   ],
   "source": [
    "import re\n",
    "import nltk\n",
    "nltk.download(\"stopwords\")\n",
    "from nltk.corpus import stopwords\n",
    "\n",
    "# Function to clean text\n",
    "def clean_text(text):\n",
    "    text = text.lower()  # Convert to lowercase\n",
    "    text = re.sub(r'\\W', ' ', text)  # Remove special characters\n",
    "    text = re.sub(r'\\d+', '', text)  # Remove numbers\n",
    "    text = ' '.join([word for word in text.split() if word not in stopwords.words(\"english\")])  # Remove stopwords\n",
    "    return text\n",
    "\n",
    "# Apply cleaning function\n",
    "df_train[\"clean_text\"] = df_train[\"text\"].apply(clean_text)\n",
    "df_test[\"clean_text\"] = df_test[\"text\"].apply(clean_text)\n",
    "\n",
    "# Display cleaned text\n",
    "print(df_train[[\"text\", \"clean_text\"]].head())\n"
   ]
  },
  {
   "cell_type": "code",
   "execution_count": null,
   "id": "1117ba9d",
   "metadata": {},
   "outputs": [],
   "source": []
  }
 ],
 "metadata": {
  "kernelspec": {
   "display_name": "Python 3 (ipykernel)",
   "language": "python",
   "name": "python3"
  },
  "language_info": {
   "codemirror_mode": {
    "name": "ipython",
    "version": 3
   },
   "file_extension": ".py",
   "mimetype": "text/x-python",
   "name": "python",
   "nbconvert_exporter": "python",
   "pygments_lexer": "ipython3",
   "version": "3.9.13"
  }
 },
 "nbformat": 4,
 "nbformat_minor": 5
}
