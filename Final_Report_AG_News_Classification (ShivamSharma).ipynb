{
 "cells": [
  {
   "cell_type": "markdown",
   "id": "f4d30230",
   "metadata": {},
   "source": [
    "\n",
    "# **Final Report: AG News Classification**\n",
    "## **Objective**\n",
    "This notebook provides a **classification pipeline** for the AG News dataset.  \n",
    "It includes:\n",
    "1. **Data Processing & Storage** – Loading, handling missing values, and preparing data.\n",
    "2. **Exploratory Data Analysis (EDA)** – Understanding data distribution, key patterns, and insights.\n",
    "3. **Model Implementation & Evaluation** – Training a classification model and analyzing performance.\n",
    "\n",
    "---\n",
    "  \n"
   ]
  },
  {
   "cell_type": "markdown",
   "id": "2590d258",
   "metadata": {},
   "source": [
    "# Data Science Assessment: News Article Analysis & Classification"
   ]
  },
  {
   "cell_type": "markdown",
   "id": "d4cd6258",
   "metadata": {},
   "source": [
    "### Data Preprocessing & Storage"
   ]
  },
  {
   "cell_type": "code",
   "execution_count": 54,
   "id": "3d184859",
   "metadata": {},
   "outputs": [
    {
     "name": "stdout",
     "output_type": "stream",
     "text": [
      "Requirement already satisfied: datasets in f:\\anaconda\\lib\\site-packages (3.4.0)\n",
      "Requirement already satisfied: pandas in f:\\anaconda\\lib\\site-packages (from datasets) (1.4.4)\n",
      "Requirement already satisfied: filelock in f:\\anaconda\\lib\\site-packages (from datasets) (3.6.0)\n",
      "Requirement already satisfied: pyarrow>=15.0.0 in f:\\anaconda\\lib\\site-packages (from datasets) (19.0.1)\n",
      "Requirement already satisfied: xxhash in f:\\anaconda\\lib\\site-packages (from datasets) (3.5.0)\n",
      "Requirement already satisfied: aiohttp in f:\\anaconda\\lib\\site-packages (from datasets) (3.11.14)\n",
      "Requirement already satisfied: dill<0.3.9,>=0.3.0 in f:\\anaconda\\lib\\site-packages (from datasets) (0.3.8)\n",
      "Requirement already satisfied: packaging in f:\\anaconda\\lib\\site-packages (from datasets) (21.3)\n",
      "Requirement already satisfied: numpy>=1.17 in f:\\anaconda\\lib\\site-packages (from datasets) (1.21.5)\n",
      "Requirement already satisfied: fsspec[http]<=2024.12.0,>=2023.1.0 in f:\\anaconda\\lib\\site-packages (from datasets) (2024.12.0)\n",
      "Requirement already satisfied: tqdm>=4.66.3 in f:\\anaconda\\lib\\site-packages (from datasets) (4.67.1)\n",
      "Requirement already satisfied: pyyaml>=5.1 in f:\\anaconda\\lib\\site-packages (from datasets) (6.0)\n",
      "Requirement already satisfied: requests>=2.32.2 in f:\\anaconda\\lib\\site-packages (from datasets) (2.32.3)\n",
      "Requirement already satisfied: multiprocess<0.70.17 in f:\\anaconda\\lib\\site-packages (from datasets) (0.70.16)\n",
      "Requirement already satisfied: huggingface-hub>=0.24.0 in f:\\anaconda\\lib\\site-packages (from datasets) (0.29.3)\n",
      "Requirement already satisfied: attrs>=17.3.0 in f:\\anaconda\\lib\\site-packages (from aiohttp->datasets) (21.4.0)\n",
      "Requirement already satisfied: propcache>=0.2.0 in f:\\anaconda\\lib\\site-packages (from aiohttp->datasets) (0.3.0)\n",
      "Requirement already satisfied: multidict<7.0,>=4.5 in f:\\anaconda\\lib\\site-packages (from aiohttp->datasets) (6.1.0)\n",
      "Requirement already satisfied: frozenlist>=1.1.1 in f:\\anaconda\\lib\\site-packages (from aiohttp->datasets) (1.5.0)\n",
      "Requirement already satisfied: aiohappyeyeballs>=2.3.0 in f:\\anaconda\\lib\\site-packages (from aiohttp->datasets) (2.6.1)\n",
      "Requirement already satisfied: aiosignal>=1.1.2 in f:\\anaconda\\lib\\site-packages (from aiohttp->datasets) (1.3.2)\n",
      "Requirement already satisfied: async-timeout<6.0,>=4.0 in f:\\anaconda\\lib\\site-packages (from aiohttp->datasets) (5.0.1)\n",
      "Requirement already satisfied: yarl<2.0,>=1.17.0 in f:\\anaconda\\lib\\site-packages (from aiohttp->datasets) (1.18.3)\n",
      "Requirement already satisfied: typing-extensions>=3.7.4.3 in f:\\anaconda\\lib\\site-packages (from huggingface-hub>=0.24.0->datasets) (4.3.0)\n",
      "Requirement already satisfied: pyparsing!=3.0.5,>=2.0.2 in f:\\anaconda\\lib\\site-packages (from packaging->datasets) (3.0.9)\n",
      "Requirement already satisfied: idna<4,>=2.5 in f:\\anaconda\\lib\\site-packages (from requests>=2.32.2->datasets) (3.3)\n",
      "Requirement already satisfied: certifi>=2017.4.17 in f:\\anaconda\\lib\\site-packages (from requests>=2.32.2->datasets) (2022.9.14)\n",
      "Requirement already satisfied: urllib3<3,>=1.21.1 in f:\\anaconda\\lib\\site-packages (from requests>=2.32.2->datasets) (1.26.11)\n",
      "Requirement already satisfied: charset-normalizer<4,>=2 in f:\\anaconda\\lib\\site-packages (from requests>=2.32.2->datasets) (2.0.4)\n",
      "Requirement already satisfied: colorama in f:\\anaconda\\lib\\site-packages (from tqdm>=4.66.3->datasets) (0.4.5)\n",
      "Requirement already satisfied: pytz>=2020.1 in f:\\anaconda\\lib\\site-packages (from pandas->datasets) (2022.1)\n",
      "Requirement already satisfied: python-dateutil>=2.8.1 in f:\\anaconda\\lib\\site-packages (from pandas->datasets) (2.8.2)\n",
      "Requirement already satisfied: six>=1.5 in f:\\anaconda\\lib\\site-packages (from python-dateutil>=2.8.1->pandas->datasets) (1.16.0)\n"
     ]
    }
   ],
   "source": [
    "!pip install datasets"
   ]
  },
  {
   "cell_type": "code",
   "execution_count": 43,
   "id": "4b1ee294",
   "metadata": {},
   "outputs": [],
   "source": [
    "from datasets import load_dataset\n",
    "import pandas as pd\n",
    "import numpy as np\n",
    "import matplotlib.pyplot as plt\n",
    "import seaborn as sns"
   ]
  },
  {
   "cell_type": "code",
   "execution_count": 65,
   "id": "fe2ab0d0",
   "metadata": {},
   "outputs": [
    {
     "name": "stdout",
     "output_type": "stream",
     "text": [
      "Columns in dataset: Index(['text', 'label'], dtype='object')\n",
      "                                               Title  label  \\\n",
      "0  Wall St. Bears Claw Back Into the Black (Reute...      2   \n",
      "1  Carlyle Looks Toward Commercial Aerospace (Reu...      2   \n",
      "2  Oil and Economy Cloud Stocks' Outlook (Reuters...      2   \n",
      "3  Iraq Halts Oil Exports from Main Southern Pipe...      2   \n",
      "4  Oil prices soar to all-time record, posing new...      2   \n",
      "\n",
      "                                                text  \n",
      "0  Wall St. Bears Claw Back Into the Black (Reute...  \n",
      "1  Carlyle Looks Toward Commercial Aerospace (Reu...  \n",
      "2  Oil and Economy Cloud Stocks' Outlook (Reuters...  \n",
      "3  Iraq Halts Oil Exports from Main Southern Pipe...  \n",
      "4  Oil prices soar to all-time record, posing new...  \n"
     ]
    }
   ],
   "source": [
    "from datasets import load_dataset\n",
    "import pandas as pd\n",
    "\n",
    "# Load dataset\n",
    "dataset = load_dataset(\"fancyzhx/ag_news\")\n",
    "\n",
    "# Convert to Pandas DataFrame\n",
    "df_train = pd.DataFrame(dataset[\"train\"])\n",
    "df_test = pd.DataFrame(dataset[\"test\"])\n",
    "\n",
    "\n",
    "# Verify column names\n",
    "print(\"Columns in dataset:\", df_train.columns)\n",
    "\n",
    "df_train.columns=[\"Title\",\"label\"]\n",
    "df_test.columns=[\"Title\",\"label\"]\n",
    "\n",
    "# If \"text\" column is missing, create it by merging \"Title\"\n",
    "if \"text\" not in df_train.columns:\n",
    "    df_train[\"text\"] = df_train[\"Title\"]\n",
    "    df_test[\"text\"] = df_test[\"Title\"]\n",
    "\n",
    "# Display dataset sample\n",
    "print(df_train.head())\n"
   ]
  },
  {
   "cell_type": "markdown",
   "id": "46dd8adb",
   "metadata": {},
   "source": [
    "### Understand structure\n"
   ]
  },
  {
   "cell_type": "code",
   "execution_count": 66,
   "id": "9525217b",
   "metadata": {},
   "outputs": [
    {
     "name": "stdout",
     "output_type": "stream",
     "text": [
      "<class 'pandas.core.frame.DataFrame'>\n",
      "RangeIndex: 120000 entries, 0 to 119999\n",
      "Data columns (total 3 columns):\n",
      " #   Column  Non-Null Count   Dtype \n",
      "---  ------  --------------   ----- \n",
      " 0   Title   120000 non-null  object\n",
      " 1   label   120000 non-null  int64 \n",
      " 2   text    120000 non-null  object\n",
      "dtypes: int64(1), object(2)\n",
      "memory usage: 2.7+ MB\n",
      "-----------------------------------------------------------------\n",
      "Unique Labels: [2 3 1 0]\n",
      "-----------------------------------------------------------------\n"
     ]
    },
    {
     "data": {
      "text/plain": [
       "Business        30000\n",
       "Science/tech    30000\n",
       "Sports          30000\n",
       "World           30000\n",
       "Name: label, dtype: int64"
      ]
     },
     "execution_count": 66,
     "metadata": {},
     "output_type": "execute_result"
    }
   ],
   "source": [
    "# Check dataset information\n",
    "df_train.info()\n",
    "\n",
    "#Check unique labels\n",
    "print(\"-----------------------------------------------------------------\")\n",
    "print(\"Unique Labels:\", df_train[\"label\"].unique())\n",
    "\n",
    "print(\"-----------------------------------------------------------------\")\n",
    "# check distribution\n",
    "df_train[\"label\"].map(category_map).value_counts()"
   ]
  },
  {
   "cell_type": "markdown",
   "id": "ff37e1cd",
   "metadata": {},
   "source": [
    "### Cleaning the pipeline\n",
    "\n",
    "#### This cleaning pipeline method is used for cleaning the unnecessary spaces and special characters in the title or description of the data\n"
   ]
  },
  {
   "cell_type": "code",
   "execution_count": 68,
   "id": "43700102",
   "metadata": {},
   "outputs": [
    {
     "name": "stderr",
     "output_type": "stream",
     "text": [
      "[nltk_data] Downloading package stopwords to\n",
      "[nltk_data]     C:\\Users\\Admin\\AppData\\Roaming\\nltk_data...\n",
      "[nltk_data]   Package stopwords is already up-to-date!\n"
     ]
    },
    {
     "name": "stdout",
     "output_type": "stream",
     "text": [
      "                                                text  \\\n",
      "0  Wall St. Bears Claw Back Into the Black (Reute...   \n",
      "1  Carlyle Looks Toward Commercial Aerospace (Reu...   \n",
      "2  Oil and Economy Cloud Stocks' Outlook (Reuters...   \n",
      "3  Iraq Halts Oil Exports from Main Southern Pipe...   \n",
      "4  Oil prices soar to all-time record, posing new...   \n",
      "\n",
      "                                          clean_text  \n",
      "0  wall st bears claw back black reuters reuters ...  \n",
      "1  carlyle looks toward commercial aerospace reut...  \n",
      "2  oil economy cloud stocks outlook reuters reute...  \n",
      "3  iraq halts oil exports main southern pipeline ...  \n",
      "4  oil prices soar time record posing new menace ...  \n"
     ]
    }
   ],
   "source": [
    "import re\n",
    "import nltk\n",
    "nltk.download(\"stopwords\")\n",
    "from nltk.corpus import stopwords\n",
    "\n",
    "# Function to clean text\n",
    "def clean_text(text):\n",
    "    text = text.lower()  # Convert to lowercase\n",
    "    text = re.sub(r'\\W', ' ', text)  # Remove special characters\n",
    "    text = re.sub(r'\\d+', '', text)  # Remove numbers\n",
    "    text = ' '.join([word for word in text.split() if word not in stopwords.words(\"english\")])  # Remove stopwords\n",
    "    return text\n",
    "\n",
    "# Apply cleaning function\n",
    "df_train[\"clean_text\"] = df_train[\"text\"].apply(clean_text)\n",
    "df_test[\"clean_text\"] = df_test[\"text\"].apply(clean_text)\n",
    "\n",
    "# Display cleaned text\n",
    "print(df_train[[\"text\", \"clean_text\"]].head())\n"
   ]
  },
  {
   "cell_type": "code",
   "execution_count": null,
   "id": "1117ba9d",
   "metadata": {},
   "outputs": [],
   "source": []
  },
  {
   "cell_type": "markdown",
   "id": "4595a2b5",
   "metadata": {},
   "source": [
    "# EDA( Exploratory Data Analysis"
   ]
  },
  {
   "cell_type": "code",
   "execution_count": 18,
   "id": "ae4c669e",
   "metadata": {},
   "outputs": [],
   "source": [
    "import pandas as pd\n",
    "import numpy as np\n",
    "import matplotlib.pyplot as plt\n",
    "import seaborn as sns\n"
   ]
  },
  {
   "cell_type": "markdown",
   "id": "755d17a4",
   "metadata": {},
   "source": [
    "### Load the data"
   ]
  },
  {
   "cell_type": "code",
   "execution_count": 1,
   "id": "3dd0a56c",
   "metadata": {},
   "outputs": [],
   "source": [
    "from datasets import load_dataset\n",
    "import pandas as pd\n",
    "\n",
    "# Load dataset\n",
    "dataset = load_dataset(\"fancyzhx/ag_news\")\n",
    "\n",
    "# Convert to Pandas DataFrame\n",
    "df_train = pd.DataFrame(dataset[\"train\"])\n",
    "df_test = pd.DataFrame(dataset[\"test\"])\n",
    "\n",
    "df_train.columns=[\"Title\",\"label\"]\n",
    "df_test.columns=[\"Title\",\"label\"]\n",
    "\n",
    "\n",
    "\n"
   ]
  },
  {
   "cell_type": "code",
   "execution_count": 29,
   "id": "aea07109",
   "metadata": {},
   "outputs": [
    {
     "name": "stderr",
     "output_type": "stream",
     "text": [
      "[nltk_data] Downloading package stopwords to\n",
      "[nltk_data]     C:\\Users\\Admin\\AppData\\Roaming\\nltk_data...\n",
      "[nltk_data]   Package stopwords is already up-to-date!\n"
     ]
    },
    {
     "name": "stdout",
     "output_type": "stream",
     "text": [
      "                                               Title  \\\n",
      "0  Wall St. Bears Claw Back Into the Black (Reute...   \n",
      "1  Carlyle Looks Toward Commercial Aerospace (Reu...   \n",
      "2  Oil and Economy Cloud Stocks' Outlook (Reuters...   \n",
      "3  Iraq Halts Oil Exports from Main Southern Pipe...   \n",
      "4  Oil prices soar to all-time record, posing new...   \n",
      "\n",
      "                                          clean_text  \n",
      "0  wall st bears claw back black reuters reuters ...  \n",
      "1  carlyle looks toward commercial aerospace reut...  \n",
      "2  oil economy cloud stocks outlook reuters reute...  \n",
      "3  iraq halts oil exports main southern pipeline ...  \n",
      "4  oil prices soar time record posing new menace ...  \n"
     ]
    }
   ],
   "source": [
    "import re\n",
    "import nltk\n",
    "nltk.download(\"stopwords\")\n",
    "from nltk.corpus import stopwords\n",
    "\n",
    "# Function to clean text\n",
    "def clean_text(text):\n",
    "    text = text.lower()  # Convert to lowercase\n",
    "    text = re.sub(r'\\W', ' ', text)  # Remove special characters\n",
    "    text = re.sub(r'\\d+', '', text)  # Remove numbers\n",
    "    text = ' '.join([word for word in text.split() if word not in stopwords.words(\"english\")])  # Remove stopwords\n",
    "    return text\n",
    "\n",
    "# Apply cleaning function\n",
    "df_train[\"clean_text\"] = df_train[\"Title\"].apply(clean_text)\n",
    "df_test[\"clean_text\"] = df_test[\"Title\"].apply(clean_text)\n",
    "\n",
    "# Display cleaned text\n",
    "print(df_train[[\"Title\", \"clean_text\"]].head())"
   ]
  },
  {
   "cell_type": "code",
   "execution_count": 30,
   "id": "6f7d72d6",
   "metadata": {},
   "outputs": [
    {
     "data": {
      "text/html": [
       "<div>\n",
       "<style scoped>\n",
       "    .dataframe tbody tr th:only-of-type {\n",
       "        vertical-align: middle;\n",
       "    }\n",
       "\n",
       "    .dataframe tbody tr th {\n",
       "        vertical-align: top;\n",
       "    }\n",
       "\n",
       "    .dataframe thead th {\n",
       "        text-align: right;\n",
       "    }\n",
       "</style>\n",
       "<table border=\"1\" class=\"dataframe\">\n",
       "  <thead>\n",
       "    <tr style=\"text-align: right;\">\n",
       "      <th></th>\n",
       "      <th>Title</th>\n",
       "      <th>label</th>\n",
       "      <th>text_length</th>\n",
       "      <th>category</th>\n",
       "      <th>clean_text</th>\n",
       "    </tr>\n",
       "  </thead>\n",
       "  <tbody>\n",
       "    <tr>\n",
       "      <th>0</th>\n",
       "      <td>Wall St. Bears Claw Back Into the Black (Reute...</td>\n",
       "      <td>2</td>\n",
       "      <td>21</td>\n",
       "      <td>Business</td>\n",
       "      <td>wall st bears claw back black reuters reuters ...</td>\n",
       "    </tr>\n",
       "    <tr>\n",
       "      <th>1</th>\n",
       "      <td>Carlyle Looks Toward Commercial Aerospace (Reu...</td>\n",
       "      <td>2</td>\n",
       "      <td>36</td>\n",
       "      <td>Business</td>\n",
       "      <td>carlyle looks toward commercial aerospace reut...</td>\n",
       "    </tr>\n",
       "    <tr>\n",
       "      <th>2</th>\n",
       "      <td>Oil and Economy Cloud Stocks' Outlook (Reuters...</td>\n",
       "      <td>2</td>\n",
       "      <td>36</td>\n",
       "      <td>Business</td>\n",
       "      <td>oil economy cloud stocks outlook reuters reute...</td>\n",
       "    </tr>\n",
       "    <tr>\n",
       "      <th>3</th>\n",
       "      <td>Iraq Halts Oil Exports from Main Southern Pipe...</td>\n",
       "      <td>2</td>\n",
       "      <td>36</td>\n",
       "      <td>Business</td>\n",
       "      <td>iraq halts oil exports main southern pipeline ...</td>\n",
       "    </tr>\n",
       "    <tr>\n",
       "      <th>4</th>\n",
       "      <td>Oil prices soar to all-time record, posing new...</td>\n",
       "      <td>2</td>\n",
       "      <td>37</td>\n",
       "      <td>Business</td>\n",
       "      <td>oil prices soar time record posing new menace ...</td>\n",
       "    </tr>\n",
       "  </tbody>\n",
       "</table>\n",
       "</div>"
      ],
      "text/plain": [
       "                                               Title  label  text_length  \\\n",
       "0  Wall St. Bears Claw Back Into the Black (Reute...      2           21   \n",
       "1  Carlyle Looks Toward Commercial Aerospace (Reu...      2           36   \n",
       "2  Oil and Economy Cloud Stocks' Outlook (Reuters...      2           36   \n",
       "3  Iraq Halts Oil Exports from Main Southern Pipe...      2           36   \n",
       "4  Oil prices soar to all-time record, posing new...      2           37   \n",
       "\n",
       "   category                                         clean_text  \n",
       "0  Business  wall st bears claw back black reuters reuters ...  \n",
       "1  Business  carlyle looks toward commercial aerospace reut...  \n",
       "2  Business  oil economy cloud stocks outlook reuters reute...  \n",
       "3  Business  iraq halts oil exports main southern pipeline ...  \n",
       "4  Business  oil prices soar time record posing new menace ...  "
      ]
     },
     "execution_count": 30,
     "metadata": {},
     "output_type": "execute_result"
    }
   ],
   "source": [
    "df_train.head()"
   ]
  },
  {
   "cell_type": "markdown",
   "id": "e405d982",
   "metadata": {},
   "source": [
    "### Basic Summary Statistics"
   ]
  },
  {
   "cell_type": "code",
   "execution_count": 11,
   "id": "96773b2a",
   "metadata": {},
   "outputs": [
    {
     "name": "stdout",
     "output_type": "stream",
     "text": [
      "-------------------------------------------------------------------\n",
      " Description of the data:\n",
      "                 label    text_length\n",
      "count  120000.000000  120000.000000\n",
      "mean        1.500000      37.847450\n",
      "std         1.118039      10.085245\n",
      "min         0.000000       8.000000\n",
      "25%         0.750000      32.000000\n",
      "50%         1.500000      37.000000\n",
      "75%         2.250000      43.000000\n",
      "max         3.000000     177.000000\n",
      "-------------------------------------------------------------------\n",
      "Missing values in the dataset: Title          0\n",
      "label          0\n",
      "text_length    0\n",
      "dtype: int64\n",
      "-------------------------------------------------------------------\n",
      " Label describution: 2    30000\n",
      "3    30000\n",
      "1    30000\n",
      "0    30000\n",
      "Name: label, dtype: int64\n",
      "-------------------------------------------------------------------\n"
     ]
    }
   ],
   "source": [
    "print(\"-------------------------------------------------------------------\")\n",
    "\n",
    "# Check the description of the data\n",
    "print(\" Description of the data:\\n \", df_train.describe())\n",
    "\n",
    "print(\"-------------------------------------------------------------------\")\n",
    "# Check for missing values\n",
    "print(\"Missing values in the dataset:\",df_train.isnull().sum())\n",
    "print(\"-------------------------------------------------------------------\")\n",
    "\n",
    "\n",
    "# Get labels of the data\n",
    "print(\" Label describution:\",df_train[\"label\"].value_counts())\n",
    "\n",
    "print(\"-------------------------------------------------------------------\")\n"
   ]
  },
  {
   "cell_type": "markdown",
   "id": "2d7ee1d9",
   "metadata": {},
   "source": [
    "### Visulization 1: Category Distribution with Percentage\n",
    "\n",
    "This visualization gives a clear breakdown of how news articles are distributed across different categories. It’s easy to interpret and allows the interviewer to quickly assess dataset balance."
   ]
  },
  {
   "cell_type": "code",
   "execution_count": 42,
   "id": "83e3ecf8",
   "metadata": {},
   "outputs": [
    {
     "data": {
      "image/png": "[encoded data removed]",
      "text/plain": [
       "<Figure size 800x600 with 1 Axes>"
      ]
     },
     "metadata": {},
     "output_type": "display_data"
    }
   ],
   "source": [
    "import matplotlib.pyplot as plt\n",
    "\n",
    "# Define category labels\n",
    "category_map = {0: \"World\", 1: \"Sports\", 2: \"Business\", 3: \"Science/Tech\"}\n",
    "df_train[\"Title\"] = df_train[\"label\"].map(category_map)\n",
    "\n",
    "# Calculate category percentages\n",
    "category_counts = df_train[\"Title\"].value_counts()\n",
    "category_percentages = (category_counts / category_counts.sum()) * 100\n",
    "\n",
    "# Plot Pie Chart\n",
    "plt.figure(figsize=(8, 6))\n",
    "plt.pie(category_percentages, labels=category_percentages.index, autopct=\"%1.1f%%\", colors=[\"#ff9999\",\"#66b3ff\",\"#99ff99\",\"#ffcc99\"], startangle=140)\n",
    "plt.title(\"News Category Distribution (Percentage)\")\n",
    "plt.show()\n"
   ]
  },
  {
   "cell_type": "markdown",
   "id": "a347644b",
   "metadata": {},
   "source": [
    "### 📌 Insight:\n",
    "\n",
    "If one category has significantly fewer examples, the model may perform poorly on it. but this data have balanced.\n",
    "This helps in deciding whether data balancing techniques (like oversampling or undersampling) are needed.\n"
   ]
  },
  {
   "cell_type": "markdown",
   "id": "5c766a8b",
   "metadata": {},
   "source": [
    "### Visualization 2: Most Distinctive Words per Category\n",
    "\n",
    "This highlights the most important words in each category, helping explain how the model differentiates between them."
   ]
  },
  {
   "cell_type": "code",
   "execution_count": 40,
   "id": "4edcfbf9",
   "metadata": {},
   "outputs": [
    {
     "data": {
      "image/png": "[encoded data removed]",
      "text/plain": [
       "<Figure size 1200x600 with 1 Axes>"
      ]
     },
     "metadata": {},
     "output_type": "display_data"
    }
   ],
   "source": [
    "from sklearn.feature_extraction.text import CountVectorizer\n",
    "import pandas as pd\n",
    "import numpy as np\n",
    "import seaborn as sns\n",
    "import matplotlib.pyplot as plt\n",
    "\n",
    "# Vectorize text data\n",
    "vectorizer = CountVectorizer(stop_words=\"english\", max_features=1000)\n",
    "X_counts = vectorizer.fit_transform(df_train[\"Title\"])\n",
    "word_counts = np.array(X_counts.sum(axis=0)).flatten()\n",
    "words = vectorizer.get_feature_names_out()\n",
    "\n",
    "# Create a DataFrame with word counts\n",
    "word_freq_df = pd.DataFrame({\"word\": words, \"count\": word_counts})\n",
    "word_freq_df = word_freq_df.sort_values(by=\"count\", ascending=False).head(20)\n",
    "\n",
    "# Map label names to category numbers\n",
    "category_map = {0: \"World\", 1: \"Sports\", 2: \"Business\", 3: \"Science/Tech\"}\n",
    "df_train[\"Title\"] = df_train[\"label\"].map(category_map)\n",
    "\n",
    "# Create a function to determine the most relevant category for a word\n",
    "def assign_category(word):\n",
    "    category_freq = {cat: df_train[df_train[\"Title\"] == cat][\"Title\"].str.contains(word, case=False, na=False).sum()\n",
    "                     for cat in df_train[\"Title\"].unique()}\n",
    "    return max(category_freq, key=category_freq.get)\n",
    "\n",
    "# Assign the most relevant category to each word\n",
    "word_freq_df[\"Title\"] = word_freq_df[\"word\"].apply(assign_category)\n",
    "\n",
    "# Plot Most Common Words with Hue\n",
    "plt.figure(figsize=(12, 6))\n",
    "sns.barplot(y=word_freq_df[\"word\"], x=word_freq_df[\"count\"], hue=word_freq_df[\"Title\"], dodge=False, palette=\"viridis\")\n",
    "plt.title(\"Most Common Words in News Articles (Colored by Category)\")\n",
    "plt.xlabel(\"Count\")\n",
    "plt.ylabel(\"Word\")\n",
    "plt.legend(title=\"News Category\", loc=\"upper right\")\n",
    "plt.show()\n"
   ]
  },
  {
   "cell_type": "markdown",
   "id": "afdaa0f9",
   "metadata": {},
   "source": [
    "📌 Insight:\n",
    "✅ Shows the most influential words that define each news category.\n",
    "✅ Helps explain how the model differentiates between categories (e.g., \"government\" for World, \"team\" for Sports).\n",
    "✅ Business application: Understanding text relevance in AI-powered content classification systems."
   ]
  },
  {
   "cell_type": "markdown",
   "id": "3a28fc40",
   "metadata": {},
   "source": [
    "### Visualization 3: Text Length Distribution per Category \n",
    "\n",
    "This shows whether different categories contain more detailed or shorter articles, which affects feature extraction and model performance."
   ]
  },
  {
   "cell_type": "code",
   "execution_count": 24,
   "id": "f98c620b",
   "metadata": {},
   "outputs": [
    {
     "data": {
      "image/png": "[encoded data removed]",
      "text/plain": [
       "<Figure size 800x500 with 1 Axes>"
      ]
     },
     "metadata": {},
     "output_type": "display_data"
    }
   ],
   "source": [
    "# Compute text length per category\n",
    "plt.figure(figsize=(8, 5))\n",
    "sns.boxplot(x=df_train[\"category\"], y=df_train[\"text_length\"], palette=\"coolwarm\")\n",
    "plt.title(\"Distribution of Text Length Across Categories\")\n",
    "plt.xlabel(\"News Category\")\n",
    "plt.ylabel(\"Text Length (Number of Words)\")\n",
    "plt.show()\n"
   ]
  },
  {
   "cell_type": "markdown",
   "id": "09c83058",
   "metadata": {},
   "source": [
    "#### 📌 Insight to Share in the Interview\n",
    "1. Science/Tech news articles tend to be longer, indicating in-depth coverage.\n",
    "2. World and Business articles tend to be shorter and to the point.\n",
    "3. The model may need different preprocessing strategies based on article length distribution. "
   ]
  },
  {
   "cell_type": "markdown",
   "id": "dc49055b",
   "metadata": {},
   "source": [
    "### Explore Relationship Between Text Features & Categories "
   ]
  },
  {
   "cell_type": "code",
   "execution_count": 26,
   "id": "a602a7bb",
   "metadata": {},
   "outputs": [
    {
     "name": "stdout",
     "output_type": "stream",
     "text": [
      "Average Text Length Per Category:\n",
      " category\n",
      "Business        37.538233\n",
      "Science/Tech    37.191967\n",
      "Sports          37.774733\n",
      "World           38.884867\n",
      "Name: text_length, dtype: float64\n"
     ]
    }
   ],
   "source": [
    "# Compute average text length per category\n",
    "avg_length_per_category = df_train.groupby(\"category\")[\"text_length\"].mean()\n",
    "\n",
    "# Display results\n",
    "print(\"Average Text Length Per Category:\\n\", avg_length_per_category)\n"
   ]
  },
  {
   "cell_type": "markdown",
   "id": "542e5226",
   "metadata": {},
   "source": [
    "#### 📌 Insight:\n",
    "✔ Shows which categories tend to have longer articles on average."
   ]
  },
  {
   "cell_type": "code",
   "execution_count": null,
   "id": "055da62b",
   "metadata": {},
   "outputs": [],
   "source": []
  },
  {
   "cell_type": "code",
   "execution_count": 1,
   "id": "4fd72787",
   "metadata": {},
   "outputs": [
    {
     "name": "stdout",
     "output_type": "stream",
     "text": [
      "Requirement already satisfied: datasets in f:\\anaconda\\lib\\site-packages (3.4.0)\n",
      "Requirement already satisfied: pandas in f:\\anaconda\\lib\\site-packages (1.4.4)\n",
      "Requirement already satisfied: numpy in f:\\anaconda\\lib\\site-packages (1.21.5)\n",
      "Requirement already satisfied: scikit-learn in f:\\anaconda\\lib\\site-packages (1.0.2)\n",
      "Requirement already satisfied: matplotlib in f:\\anaconda\\lib\\site-packages (3.5.2)\n",
      "Requirement already satisfied: seaborn in f:\\anaconda\\lib\\site-packages (0.11.2)\n",
      "Requirement already satisfied: requests>=2.32.2 in f:\\anaconda\\lib\\site-packages (from datasets) (2.32.3)\n",
      "Requirement already satisfied: filelock in f:\\anaconda\\lib\\site-packages (from datasets) (3.6.0)\n",
      "Requirement already satisfied: tqdm>=4.66.3 in f:\\anaconda\\lib\\site-packages (from datasets) (4.67.1)\n",
      "Requirement already satisfied: huggingface-hub>=0.24.0 in f:\\anaconda\\lib\\site-packages (from datasets) (0.29.3)\n",
      "Requirement already satisfied: dill<0.3.9,>=0.3.0 in f:\\anaconda\\lib\\site-packages (from datasets) (0.3.8)\n",
      "Requirement already satisfied: pyarrow>=15.0.0 in f:\\anaconda\\lib\\site-packages (from datasets) (19.0.1)\n",
      "Requirement already satisfied: fsspec[http]<=2024.12.0,>=2023.1.0 in f:\\anaconda\\lib\\site-packages (from datasets) (2024.12.0)\n",
      "Requirement already satisfied: packaging in f:\\anaconda\\lib\\site-packages (from datasets) (21.3)\n",
      "Requirement already satisfied: aiohttp in f:\\anaconda\\lib\\site-packages (from datasets) (3.11.14)\n",
      "Requirement already satisfied: pyyaml>=5.1 in f:\\anaconda\\lib\\site-packages (from datasets) (6.0)\n",
      "Requirement already satisfied: xxhash in f:\\anaconda\\lib\\site-packages (from datasets) (3.5.0)\n",
      "Requirement already satisfied: multiprocess<0.70.17 in f:\\anaconda\\lib\\site-packages (from datasets) (0.70.16)\n",
      "Requirement already satisfied: python-dateutil>=2.8.1 in f:\\anaconda\\lib\\site-packages (from pandas) (2.8.2)\n",
      "Requirement already satisfied: pytz>=2020.1 in f:\\anaconda\\lib\\site-packages (from pandas) (2022.1)\n",
      "Requirement already satisfied: scipy>=1.1.0 in f:\\anaconda\\lib\\site-packages (from scikit-learn) (1.9.1)\n",
      "Requirement already satisfied: threadpoolctl>=2.0.0 in f:\\anaconda\\lib\\site-packages (from scikit-learn) (2.2.0)\n",
      "Requirement already satisfied: joblib>=0.11 in f:\\anaconda\\lib\\site-packages (from scikit-learn) (1.1.0)\n",
      "Requirement already satisfied: pillow>=6.2.0 in f:\\anaconda\\lib\\site-packages (from matplotlib) (9.2.0)\n",
      "Requirement already satisfied: cycler>=0.10 in f:\\anaconda\\lib\\site-packages (from matplotlib) (0.11.0)\n",
      "Requirement already satisfied: pyparsing>=2.2.1 in f:\\anaconda\\lib\\site-packages (from matplotlib) (3.0.9)\n",
      "Requirement already satisfied: kiwisolver>=1.0.1 in f:\\anaconda\\lib\\site-packages (from matplotlib) (1.4.2)\n",
      "Requirement already satisfied: fonttools>=4.22.0 in f:\\anaconda\\lib\\site-packages (from matplotlib) (4.25.0)\n",
      "Requirement already satisfied: propcache>=0.2.0 in f:\\anaconda\\lib\\site-packages (from aiohttp->datasets) (0.3.0)\n",
      "Requirement already satisfied: multidict<7.0,>=4.5 in f:\\anaconda\\lib\\site-packages (from aiohttp->datasets) (6.1.0)\n",
      "Requirement already satisfied: async-timeout<6.0,>=4.0 in f:\\anaconda\\lib\\site-packages (from aiohttp->datasets) (5.0.1)\n",
      "Requirement already satisfied: yarl<2.0,>=1.17.0 in f:\\anaconda\\lib\\site-packages (from aiohttp->datasets) (1.18.3)\n",
      "Requirement already satisfied: attrs>=17.3.0 in f:\\anaconda\\lib\\site-packages (from aiohttp->datasets) (21.4.0)\n",
      "Requirement already satisfied: aiohappyeyeballs>=2.3.0 in f:\\anaconda\\lib\\site-packages (from aiohttp->datasets) (2.6.1)\n",
      "Requirement already satisfied: aiosignal>=1.1.2 in f:\\anaconda\\lib\\site-packages (from aiohttp->datasets) (1.3.2)\n",
      "Requirement already satisfied: frozenlist>=1.1.1 in f:\\anaconda\\lib\\site-packages (from aiohttp->datasets) (1.5.0)\n",
      "Requirement already satisfied: typing-extensions>=3.7.4.3 in f:\\anaconda\\lib\\site-packages (from huggingface-hub>=0.24.0->datasets) (4.3.0)\n",
      "Requirement already satisfied: six>=1.5 in f:\\anaconda\\lib\\site-packages (from python-dateutil>=2.8.1->pandas) (1.16.0)\n",
      "Requirement already satisfied: certifi>=2017.4.17 in f:\\anaconda\\lib\\site-packages (from requests>=2.32.2->datasets) (2022.9.14)\n",
      "Requirement already satisfied: idna<4,>=2.5 in f:\\anaconda\\lib\\site-packages (from requests>=2.32.2->datasets) (3.3)\n",
      "Requirement already satisfied: charset-normalizer<4,>=2 in f:\\anaconda\\lib\\site-packages (from requests>=2.32.2->datasets) (2.0.4)\n",
      "Requirement already satisfied: urllib3<3,>=1.21.1 in f:\\anaconda\\lib\\site-packages (from requests>=2.32.2->datasets) (1.26.11)\n",
      "Requirement already satisfied: colorama in f:\\anaconda\\lib\\site-packages (from tqdm>=4.66.3->datasets) (0.4.5)\n"
     ]
    }
   ],
   "source": [
    "!pip install datasets pandas numpy scikit-learn matplotlib seaborn\n"
   ]
  },
  {
   "cell_type": "code",
   "execution_count": 2,
   "id": "7afe3829",
   "metadata": {},
   "outputs": [],
   "source": [
    "import pandas as pd\n",
    "import numpy as np\n",
    "import matplotlib.pyplot as plt\n",
    "import seaborn as sns\n"
   ]
  },
  {
   "cell_type": "code",
   "execution_count": 3,
   "id": "c42347ce",
   "metadata": {},
   "outputs": [],
   "source": [
    "from datasets import load_dataset\n",
    "import pandas as pd\n",
    "\n",
    "# Load dataset\n",
    "dataset = load_dataset(\"fancyzhx/ag_news\")\n",
    "\n",
    "# Convert to Pandas DataFrame\n",
    "df_train = pd.DataFrame(dataset[\"train\"])\n",
    "df_test = pd.DataFrame(dataset[\"test\"])\n",
    "\n",
    "df_train.columns=[\"Title\",\"label\"]\n",
    "df_test.columns=[\"Title\",\"label\"]\n",
    "\n"
   ]
  },
  {
   "cell_type": "code",
   "execution_count": 21,
   "id": "48f0f612",
   "metadata": {},
   "outputs": [
    {
     "name": "stderr",
     "output_type": "stream",
     "text": [
      "[nltk_data] Downloading package stopwords to\n",
      "[nltk_data]     C:\\Users\\Admin\\AppData\\Roaming\\nltk_data...\n",
      "[nltk_data]   Package stopwords is already up-to-date!\n"
     ]
    },
    {
     "name": "stdout",
     "output_type": "stream",
     "text": [
      "                                               Title  \\\n",
      "0  Wall St. Bears Claw Back Into the Black (Reute...   \n",
      "1  Carlyle Looks Toward Commercial Aerospace (Reu...   \n",
      "2  Oil and Economy Cloud Stocks' Outlook (Reuters...   \n",
      "3  Iraq Halts Oil Exports from Main Southern Pipe...   \n",
      "4  Oil prices soar to all-time record, posing new...   \n",
      "\n",
      "                                          clean_text  \n",
      "0  wall st bears claw back black reuters reuters ...  \n",
      "1  carlyle looks toward commercial aerospace reut...  \n",
      "2  oil economy cloud stocks outlook reuters reute...  \n",
      "3  iraq halts oil exports main southern pipeline ...  \n",
      "4  oil prices soar time record posing new menace ...  \n"
     ]
    }
   ],
   "source": [
    "# Clean data pipeline\n",
    "import re\n",
    "import nltk\n",
    "nltk.download(\"stopwords\")\n",
    "from nltk.corpus import stopwords\n",
    "\n",
    "# Function to clean text\n",
    "def clean_text(text):\n",
    "    text = text.lower()  # Convert to lowercase\n",
    "    text = re.sub(r'\\W', ' ', text)  # Remove special characters\n",
    "    text = re.sub(r'\\d+', '', text)  # Remove numbers\n",
    "    text = ' '.join([word for word in text.split() if word not in stopwords.words(\"english\")])  # Remove stopwords\n",
    "    return text\n",
    "\n",
    "# Apply cleaning function\n",
    "df_train[\"clean_text\"] = df_train[\"Title\"].apply(clean_text)\n",
    "df_test[\"clean_text\"] = df_test[\"Title\"].apply(clean_text)\n",
    "\n",
    "# Display cleaned text\n",
    "print(df_train[[\"Title\", \"clean_text\"]].head())"
   ]
  },
  {
   "cell_type": "markdown",
   "id": "db2edd67",
   "metadata": {},
   "source": [
    "#### This cleaning pipeline method is used for cleaning the unnecessary spaces and special characters in the title or description of the data"
   ]
  },
  {
   "cell_type": "markdown",
   "id": "3649af25",
   "metadata": {},
   "source": [
    "### Split the Data (Before Feature Extraction)"
   ]
  },
  {
   "cell_type": "code",
   "execution_count": 22,
   "id": "dc12112e",
   "metadata": {},
   "outputs": [
    {
     "name": "stdout",
     "output_type": "stream",
     "text": [
      "Training set size: (96000,)\n",
      "Test set size: (24000,)\n"
     ]
    }
   ],
   "source": [
    "from sklearn.model_selection import train_test_split\n",
    "\n",
    "# Define features (X) and labels (Y)\n",
    "X = df_train[\"Title\"] \n",
    "Y = df_train[\"label\"]\n",
    "\n",
    "# Split the dataset\n",
    "train_test_split(df_train[\"clean_text\"], df_train[\"label\"], test_size=0.2, random_state=42)\n",
    "\n",
    "# Print shapes to verify\n",
    "print(\"Training set size:\", X_train.shape)\n",
    "print(\"Test set size:\", X_test.shape)\n"
   ]
  },
  {
   "cell_type": "markdown",
   "id": "decec9ff",
   "metadata": {},
   "source": [
    "### Feature Extraction using Bag-of-words( COunt Vectorizer)\n",
    "\n",
    "Count Vectorizer: CountVectorizer is a feature extraction technique in Natural Language Processing (NLP) that converts text data into numerical form by counting the occurrence of words in a document. It is part of Bag-of-Words (BoW) representation.\n"
   ]
  },
  {
   "cell_type": "code",
   "execution_count": 23,
   "id": "4da36a90",
   "metadata": {},
   "outputs": [],
   "source": [
    "from sklearn.feature_extraction.text import CountVectorizer\n",
    "\n",
    "# Convert text into numerical features using COuntVectorizer( bagofwords)\n",
    "vectorizer = CountVectorizer()\n",
    "X_train_counts = vectorizer.fit_transform(X_train)\n",
    "X_test_counts = vectorizer.transform(X_test)"
   ]
  },
  {
   "cell_type": "markdown",
   "id": "c5ae4aa4",
   "metadata": {},
   "source": [
    "### Train the model ( LogisticRegression)"
   ]
  },
  {
   "cell_type": "code",
   "execution_count": 24,
   "id": "e1f85c10",
   "metadata": {},
   "outputs": [],
   "source": [
    "from sklearn.linear_model import LogisticRegression\n",
    "\n",
    "# Training the model\n",
    "model = LogisticRegression(max_iter=1000)\n",
    "model.fit(X_train_counts, Y_train)\n",
    "\n",
    "# making pred.\n",
    "Y_pred = model.predict(X_test_counts)"
   ]
  },
  {
   "cell_type": "markdown",
   "id": "e4bc61f2",
   "metadata": {},
   "source": [
    "### Evaluating the model:\n",
    "\n",
    "1. Accuracy of the model\n",
    "2. Classification Report\n",
    "3. Confusion Matrix"
   ]
  },
  {
   "cell_type": "code",
   "execution_count": 25,
   "id": "7849a3c3",
   "metadata": {},
   "outputs": [
    {
     "name": "stdout",
     "output_type": "stream",
     "text": [
      "model_accuracy: 0.9034583333333334\n",
      "\n",
      "Classification report:\n",
      "\n",
      "              precision    recall  f1-score   support\n",
      "\n",
      "       World       0.91      0.89      0.90      6011\n",
      "      Sports       0.95      0.97      0.96      5997\n",
      "    Business       0.88      0.88      0.88      6017\n",
      "Science/Tech       0.88      0.88      0.88      5975\n",
      "\n",
      "    accuracy                           0.90     24000\n",
      "   macro avg       0.90      0.90      0.90     24000\n",
      "weighted avg       0.90      0.90      0.90     24000\n",
      "\n"
     ]
    },
    {
     "data": {
      "image/png": "[encoded data removed]",
      "text/plain": [
       "<Figure size 600x400 with 2 Axes>"
      ]
     },
     "metadata": {},
     "output_type": "display_data"
    }
   ],
   "source": [
    "# CONfusion matrix\n",
    "from sklearn.metrics import accuracy_score,confusion_matrix,classification_report\n",
    "import seaborn as sns\n",
    "import matplotlib.pyplot as plt\n",
    "\n",
    "# plot accuracy\n",
    "print(\"model_accuracy:\",accuracy_score(Y_test,Y_pred))\n",
    "\n",
    "# Classification report\n",
    "print(\"\\nClassification report:\\n\")\n",
    "print(classification_report(Y_test,Y_pred,target_names=[\"World\",\"Sports\",\"Business\", \"Science/Tech\"]))\n",
    "\n",
    "# Confusion matrix\n",
    "plt.figure(figsize=(6, 4))\n",
    "sns.heatmap(confusion_matrix(Y_test, Y_pred), annot=True, fmt='d', cmap=\"Blues\", \n",
    "            xticklabels=[\"World\", \"Sports\", \"Business\", \"Science/Tech\"], \n",
    "            yticklabels=[\"World\", \"Sports\", \"Business\", \"Science/Tech\"])\n",
    "plt.xlabel(\"Predicted\")\n",
    "plt.ylabel(\"Actual\")\n",
    "plt.title(\"Confusion Matrix - Logistic Regression\")\n",
    "plt.show()"
   ]
  },
  {
   "cell_type": "code",
   "execution_count": null,
   "id": "5609e487",
   "metadata": {},
   "outputs": [],
   "source": []
  },
  {
   "cell_type": "code",
   "execution_count": null,
   "id": "d6e8a909",
   "metadata": {},
   "outputs": [],
   "source": []
  },
  {
   "cell_type": "markdown",
   "id": "9ec12659",
   "metadata": {},
   "source": [
    "\n",
    "## **📌 Key Insights from Analysis**\n",
    "\n",
    "### **1️⃣ Data Processing Insights**  \n",
    "🔹 The dataset was well-structured, requiring minimal preprocessing.  \n",
    "🔹 A **train-test split (80-20%)** ensured unbiased model training.  \n",
    "\n",
    "### **2️⃣ EDA Insights**  \n",
    "🔹 **Category Distribution:** Some categories had slightly more samples, which could impact classification.  \n",
    "🔹 **Text Length Analysis:** Business & World articles were **longer**, while Sports & Science were **shorter**.  \n",
    "🔹 **Word Frequency:** Certain keywords strongly defined categories (e.g., \"government\" → World, \"team\" → Sports).  \n",
    "\n",
    "### **3️⃣ Model Performance Insights**  \n",
    "🔹 The model achieved **90% accuracy** using a **Logistic Regression baseline**.  .  \n",
    "🔹 **Potential Improvements:** Using **TF-IDF** for better contextual understanding.\n",
    "🔹 Can Use **Tensorflow** models for deep learning models,making it more better to understand.\n",
    "\n",
    "---  \n",
    "## **Next Steps for Improvement**\n",
    "🔹 **Hyperparameter Tuning:** Optimizing `CountVectorizer` and `Logistic Regression`.  \n",
    "🔹 **Deep Learning Models:** Can use **TensorFlow** in this.\n",
    "🔹 **Data Augmentation:** Expanding the dataset could lead to better generalization.\n",
    "\n",
    "---  \n",
    "This final notebook with insights and suggestions for future work."
   ]
  },
  {
   "cell_type": "code",
   "execution_count": null,
   "id": "722917cf",
   "metadata": {},
   "outputs": [],
   "source": []
  }
 ],
 "metadata": {
  "kernelspec": {
   "display_name": "Python 3 (ipykernel)",
   "language": "python",
   "name": "python3"
  },
  "language_info": {
   "codemirror_mode": {
    "name": "ipython",
    "version": 3
   },
   "file_extension": ".py",
   "mimetype": "text/x-python",
   "name": "python",
   "nbconvert_exporter": "python",
   "pygments_lexer": "ipython3",
   "version": "3.9.13"
  }
 },
 "nbformat": 4,
 "nbformat_minor": 5
}
