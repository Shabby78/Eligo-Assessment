{
 "cells": [
  {
   "cell_type": "code",
   "execution_count": 1,
   "id": "4fd72787",
   "metadata": {},
   "outputs": [
    {
     "name": "stdout",
     "output_type": "stream",
     "text": [
      "Requirement already satisfied: datasets in f:\\anaconda\\lib\\site-packages (3.4.0)\n",
      "Requirement already satisfied: pandas in f:\\anaconda\\lib\\site-packages (1.4.4)\n",
      "Requirement already satisfied: numpy in f:\\anaconda\\lib\\site-packages (1.21.5)\n",
      "Requirement already satisfied: scikit-learn in f:\\anaconda\\lib\\site-packages (1.0.2)\n",
      "Requirement already satisfied: matplotlib in f:\\anaconda\\lib\\site-packages (3.5.2)\n",
      "Requirement already satisfied: seaborn in f:\\anaconda\\lib\\site-packages (0.11.2)\n",
      "Requirement already satisfied: requests>=2.32.2 in f:\\anaconda\\lib\\site-packages (from datasets) (2.32.3)\n",
      "Requirement already satisfied: filelock in f:\\anaconda\\lib\\site-packages (from datasets) (3.6.0)\n",
      "Requirement already satisfied: tqdm>=4.66.3 in f:\\anaconda\\lib\\site-packages (from datasets) (4.67.1)\n",
      "Requirement already satisfied: huggingface-hub>=0.24.0 in f:\\anaconda\\lib\\site-packages (from datasets) (0.29.3)\n",
      "Requirement already satisfied: dill<0.3.9,>=0.3.0 in f:\\anaconda\\lib\\site-packages (from datasets) (0.3.8)\n",
      "Requirement already satisfied: pyarrow>=15.0.0 in f:\\anaconda\\lib\\site-packages (from datasets) (19.0.1)\n",
      "Requirement already satisfied: fsspec[http]<=2024.12.0,>=2023.1.0 in f:\\anaconda\\lib\\site-packages (from datasets) (2024.12.0)\n",
      "Requirement already satisfied: packaging in f:\\anaconda\\lib\\site-packages (from datasets) (21.3)\n",
      "Requirement already satisfied: aiohttp in f:\\anaconda\\lib\\site-packages (from datasets) (3.11.14)\n",
      "Requirement already satisfied: pyyaml>=5.1 in f:\\anaconda\\lib\\site-packages (from datasets) (6.0)\n",
      "Requirement already satisfied: xxhash in f:\\anaconda\\lib\\site-packages (from datasets) (3.5.0)\n",
      "Requirement already satisfied: multiprocess<0.70.17 in f:\\anaconda\\lib\\site-packages (from datasets) (0.70.16)\n",
      "Requirement already satisfied: python-dateutil>=2.8.1 in f:\\anaconda\\lib\\site-packages (from pandas) (2.8.2)\n",
      "Requirement already satisfied: pytz>=2020.1 in f:\\anaconda\\lib\\site-packages (from pandas) (2022.1)\n",
      "Requirement already satisfied: scipy>=1.1.0 in f:\\anaconda\\lib\\site-packages (from scikit-learn) (1.9.1)\n",
      "Requirement already satisfied: threadpoolctl>=2.0.0 in f:\\anaconda\\lib\\site-packages (from scikit-learn) (2.2.0)\n",
      "Requirement already satisfied: joblib>=0.11 in f:\\anaconda\\lib\\site-packages (from scikit-learn) (1.1.0)\n",
      "Requirement already satisfied: pillow>=6.2.0 in f:\\anaconda\\lib\\site-packages (from matplotlib) (9.2.0)\n",
      "Requirement already satisfied: cycler>=0.10 in f:\\anaconda\\lib\\site-packages (from matplotlib) (0.11.0)\n",
      "Requirement already satisfied: pyparsing>=2.2.1 in f:\\anaconda\\lib\\site-packages (from matplotlib) (3.0.9)\n",
      "Requirement already satisfied: kiwisolver>=1.0.1 in f:\\anaconda\\lib\\site-packages (from matplotlib) (1.4.2)\n",
      "Requirement already satisfied: fonttools>=4.22.0 in f:\\anaconda\\lib\\site-packages (from matplotlib) (4.25.0)\n",
      "Requirement already satisfied: propcache>=0.2.0 in f:\\anaconda\\lib\\site-packages (from aiohttp->datasets) (0.3.0)\n",
      "Requirement already satisfied: multidict<7.0,>=4.5 in f:\\anaconda\\lib\\site-packages (from aiohttp->datasets) (6.1.0)\n",
      "Requirement already satisfied: async-timeout<6.0,>=4.0 in f:\\anaconda\\lib\\site-packages (from aiohttp->datasets) (5.0.1)\n",
      "Requirement already satisfied: yarl<2.0,>=1.17.0 in f:\\anaconda\\lib\\site-packages (from aiohttp->datasets) (1.18.3)\n",
      "Requirement already satisfied: attrs>=17.3.0 in f:\\anaconda\\lib\\site-packages (from aiohttp->datasets) (21.4.0)\n",
      "Requirement already satisfied: aiohappyeyeballs>=2.3.0 in f:\\anaconda\\lib\\site-packages (from aiohttp->datasets) (2.6.1)\n",
      "Requirement already satisfied: aiosignal>=1.1.2 in f:\\anaconda\\lib\\site-packages (from aiohttp->datasets) (1.3.2)\n",
      "Requirement already satisfied: frozenlist>=1.1.1 in f:\\anaconda\\lib\\site-packages (from aiohttp->datasets) (1.5.0)\n",
      "Requirement already satisfied: typing-extensions>=3.7.4.3 in f:\\anaconda\\lib\\site-packages (from huggingface-hub>=0.24.0->datasets) (4.3.0)\n",
      "Requirement already satisfied: six>=1.5 in f:\\anaconda\\lib\\site-packages (from python-dateutil>=2.8.1->pandas) (1.16.0)\n",
      "Requirement already satisfied: certifi>=2017.4.17 in f:\\anaconda\\lib\\site-packages (from requests>=2.32.2->datasets) (2022.9.14)\n",
      "Requirement already satisfied: idna<4,>=2.5 in f:\\anaconda\\lib\\site-packages (from requests>=2.32.2->datasets) (3.3)\n",
      "Requirement already satisfied: charset-normalizer<4,>=2 in f:\\anaconda\\lib\\site-packages (from requests>=2.32.2->datasets) (2.0.4)\n",
      "Requirement already satisfied: urllib3<3,>=1.21.1 in f:\\anaconda\\lib\\site-packages (from requests>=2.32.2->datasets) (1.26.11)\n",
      "Requirement already satisfied: colorama in f:\\anaconda\\lib\\site-packages (from tqdm>=4.66.3->datasets) (0.4.5)\n"
     ]
    }
   ],
   "source": [
    "!pip install datasets pandas numpy scikit-learn matplotlib seaborn\n"
   ]
  },
  {
   "cell_type": "code",
   "execution_count": 2,
   "id": "7afe3829",
   "metadata": {},
   "outputs": [],
   "source": [
    "import pandas as pd\n",
    "import numpy as np\n",
    "import matplotlib.pyplot as plt\n",
    "import seaborn as sns\n"
   ]
  },
  {
   "cell_type": "code",
   "execution_count": 3,
   "id": "c42347ce",
   "metadata": {},
   "outputs": [],
   "source": [
    "from datasets import load_dataset\n",
    "import pandas as pd\n",
    "\n",
    "# Load dataset\n",
    "dataset = load_dataset(\"fancyzhx/ag_news\")\n",
    "\n",
    "# Convert to Pandas DataFrame\n",
    "df_train = pd.DataFrame(dataset[\"train\"])\n",
    "df_test = pd.DataFrame(dataset[\"test\"])\n",
    "\n",
    "df_train.columns=[\"Title\",\"label\"]\n",
    "df_test.columns=[\"Title\",\"label\"]\n",
    "\n"
   ]
  },
  {
   "cell_type": "code",
   "execution_count": 21,
   "id": "48f0f612",
   "metadata": {},
   "outputs": [
    {
     "name": "stderr",
     "output_type": "stream",
     "text": [
      "[nltk_data] Downloading package stopwords to\n",
      "[nltk_data]     C:\\Users\\Admin\\AppData\\Roaming\\nltk_data...\n",
      "[nltk_data]   Package stopwords is already up-to-date!\n"
     ]
    },
    {
     "name": "stdout",
     "output_type": "stream",
     "text": [
      "                                               Title  \\\n",
      "0  Wall St. Bears Claw Back Into the Black (Reute...   \n",
      "1  Carlyle Looks Toward Commercial Aerospace (Reu...   \n",
      "2  Oil and Economy Cloud Stocks' Outlook (Reuters...   \n",
      "3  Iraq Halts Oil Exports from Main Southern Pipe...   \n",
      "4  Oil prices soar to all-time record, posing new...   \n",
      "\n",
      "                                          clean_text  \n",
      "0  wall st bears claw back black reuters reuters ...  \n",
      "1  carlyle looks toward commercial aerospace reut...  \n",
      "2  oil economy cloud stocks outlook reuters reute...  \n",
      "3  iraq halts oil exports main southern pipeline ...  \n",
      "4  oil prices soar time record posing new menace ...  \n"
     ]
    }
   ],
   "source": [
    "# Clean data pipeline\n",
    "import re\n",
    "import nltk\n",
    "nltk.download(\"stopwords\")\n",
    "from nltk.corpus import stopwords\n",
    "\n",
    "# Function to clean text\n",
    "def clean_text(text):\n",
    "    text = text.lower()  # Convert to lowercase\n",
    "    text = re.sub(r'\\W', ' ', text)  # Remove special characters\n",
    "    text = re.sub(r'\\d+', '', text)  # Remove numbers\n",
    "    text = ' '.join([word for word in text.split() if word not in stopwords.words(\"english\")])  # Remove stopwords\n",
    "    return text\n",
    "\n",
    "# Apply cleaning function\n",
    "df_train[\"clean_text\"] = df_train[\"Title\"].apply(clean_text)\n",
    "df_test[\"clean_text\"] = df_test[\"Title\"].apply(clean_text)\n",
    "\n",
    "# Display cleaned text\n",
    "print(df_train[[\"Title\", \"clean_text\"]].head())"
   ]
  },
  {
   "cell_type": "markdown",
   "id": "db2edd67",
   "metadata": {},
   "source": [
    "#### This cleaning pipeline method is used for cleaning the unnecessary spaces and special characters in the title or description of the data"
   ]
  },
  {
   "cell_type": "markdown",
   "id": "3649af25",
   "metadata": {},
   "source": [
    "### Split the Data (Before Feature Extraction)"
   ]
  },
  {
   "cell_type": "code",
   "execution_count": 22,
   "id": "dc12112e",
   "metadata": {},
   "outputs": [
    {
     "name": "stdout",
     "output_type": "stream",
     "text": [
      "Training set size: (96000,)\n",
      "Test set size: (24000,)\n"
     ]
    }
   ],
   "source": [
    "from sklearn.model_selection import train_test_split\n",
    "\n",
    "# Define features (X) and labels (Y)\n",
    "X = df_train[\"Title\"] \n",
    "Y = df_train[\"label\"]\n",
    "\n",
    "# Split the dataset\n",
    "train_test_split(df_train[\"clean_text\"], df_train[\"label\"], test_size=0.2, random_state=42)\n",
    "\n",
    "# Print shapes to verify\n",
    "print(\"Training set size:\", X_train.shape)\n",
    "print(\"Test set size:\", X_test.shape)\n"
   ]
  },
  {
   "cell_type": "markdown",
   "id": "decec9ff",
   "metadata": {},
   "source": [
    "### Feature Extraction using Bag-of-words( COunt Vectorizer)\n",
    "\n",
    "Count Vectorizer: CountVectorizer is a feature extraction technique in Natural Language Processing (NLP) that converts text data into numerical form by counting the occurrence of words in a document. It is part of Bag-of-Words (BoW) representation.\n"
   ]
  },
  {
   "cell_type": "code",
   "execution_count": 23,
   "id": "4da36a90",
   "metadata": {},
   "outputs": [],
   "source": [
    "from sklearn.feature_extraction.text import CountVectorizer\n",
    "\n",
    "# Convert text into numerical features using COuntVectorizer( bagofwords)\n",
    "vectorizer = CountVectorizer()\n",
    "X_train_counts = vectorizer.fit_transform(X_train)\n",
    "X_test_counts = vectorizer.transform(X_test)"
   ]
  },
  {
   "cell_type": "markdown",
   "id": "c5ae4aa4",
   "metadata": {},
   "source": [
    "### Train the model ( LogisticRegression)"
   ]
  },
  {
   "cell_type": "code",
   "execution_count": 24,
   "id": "e1f85c10",
   "metadata": {},
   "outputs": [],
   "source": [
    "from sklearn.linear_model import LogisticRegression\n",
    "\n",
    "# Training the model\n",
    "model = LogisticRegression(max_iter=1000)\n",
    "model.fit(X_train_counts, Y_train)\n",
    "\n",
    "# making pred.\n",
    "Y_pred = model.predict(X_test_counts)"
   ]
  },
  {
   "cell_type": "markdown",
   "id": "e4bc61f2",
   "metadata": {},
   "source": [
    "### Evaluating the model:\n",
    "\n",
    "1. Accuracy of the model\n",
    "2. Classification Report\n",
    "3. Confusion Matrix"
   ]
  },
  {
   "cell_type": "code",
   "execution_count": 25,
   "id": "7849a3c3",
   "metadata": {},
   "outputs": [
    {
     "name": "stdout",
     "output_type": "stream",
     "text": [
      "model_accuracy: 0.9034583333333334\n",
      "\n",
      "Classification report:\n",
      "\n",
      "              precision    recall  f1-score   support\n",
      "\n",
      "       World       0.91      0.89      0.90      6011\n",
      "      Sports       0.95      0.97      0.96      5997\n",
      "    Business       0.88      0.88      0.88      6017\n",
      "Science/Tech       0.88      0.88      0.88      5975\n",
      "\n",
      "    accuracy                           0.90     24000\n",
      "   macro avg       0.90      0.90      0.90     24000\n",
      "weighted avg       0.90      0.90      0.90     24000\n",
      "\n"
     ]
    },
    {
     "data": {
      "image/png": "[encoded data removed]",
      "text/plain": [
       "<Figure size 600x400 with 2 Axes>"
      ]
     },
     "metadata": {},
     "output_type": "display_data"
    }
   ],
   "source": [
    "# CONfusion matrix\n",
    "from sklearn.metrics import accuracy_score,confusion_matrix,classification_report\n",
    "import seaborn as sns\n",
    "import matplotlib.pyplot as plt\n",
    "\n",
    "# plot accuracy\n",
    "print(\"model_accuracy:\",accuracy_score(Y_test,Y_pred))\n",
    "\n",
    "# Classification report\n",
    "print(\"\\nClassification report:\\n\")\n",
    "print(classification_report(Y_test,Y_pred,target_names=[\"World\",\"Sports\",\"Business\", \"Science/Tech\"]))\n",
    "\n",
    "# Confusion matrix\n",
    "plt.figure(figsize=(6, 4))\n",
    "sns.heatmap(confusion_matrix(Y_test, Y_pred), annot=True, fmt='d', cmap=\"Blues\", \n",
    "            xticklabels=[\"World\", \"Sports\", \"Business\", \"Science/Tech\"], \n",
    "            yticklabels=[\"World\", \"Sports\", \"Business\", \"Science/Tech\"])\n",
    "plt.xlabel(\"Predicted\")\n",
    "plt.ylabel(\"Actual\")\n",
    "plt.title(\"Confusion Matrix - Logistic Regression\")\n",
    "plt.show()"
   ]
  },
  {
   "cell_type": "code",
   "execution_count": null,
   "id": "5609e487",
   "metadata": {},
   "outputs": [],
   "source": []
  },
  {
   "cell_type": "code",
   "execution_count": null,
   "id": "d6e8a909",
   "metadata": {},
   "outputs": [],
   "source": []
  }
 ],
 "metadata": {
  "kernelspec": {
   "display_name": "Python 3 (ipykernel)",
   "language": "python",
   "name": "python3"
  },
  "language_info": {
   "codemirror_mode": {
    "name": "ipython",
    "version": 3
   },
   "file_extension": ".py",
   "mimetype": "text/x-python",
   "name": "python",
   "nbconvert_exporter": "python",
   "pygments_lexer": "ipython3",
   "version": "3.9.13"
  }
 },
 "nbformat": 4,
 "nbformat_minor": 5
}
